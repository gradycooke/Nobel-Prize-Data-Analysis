{
 "cells": [
  {
   "cell_type": "markdown",
   "id": "6a1a445a-8762-45f3-8e0c-5b3e2248a88f",
   "metadata": {},
   "source": [
    "# Nobel Prize Data Analysis\n",
    "\n",
    "### *Author:* Grady Cooke\n",
    "### *Date:* June 9, 2025"
   ]
  },
  {
   "cell_type": "markdown",
   "id": "db5bd2ce-918a-4f7d-a927-a3ea74c4b456",
   "metadata": {},
   "source": [
    "## Summary\n",
    "\n",
    "In this project, I analyzed data from the Nobel Prize dataset to explore trends in laureate demographics and achievements. My goal was to uncover insights such as the distribution of awards across categories and decades, the representation of women over time, and notable individuals or organizations who have received multiple Nobel Prizes. Through data manipulation and visualization, I identified patterns and key milestones, such as the first woman laureate and the categories with the highest female representation. This analysis highlights both historical and recent shifts in Nobel recognition."
   ]
  },
  {
   "cell_type": "markdown",
   "id": "31d0050d-614e-40cc-9966-2b6b3a049ca4",
   "metadata": {},
   "source": [
    "## Dataset Overview"
   ]
  },
  {
   "cell_type": "code",
   "execution_count": 4,
   "id": "11fd5946-7bd1-495c-aa7f-ff6e7e4a350b",
   "metadata": {
    "executionCancelledAt": null,
    "executionTime": 50,
    "lastExecutedAt": 1749442707708,
    "lastExecutedByKernel": "77f8fedb-4e0d-466a-ac63-dcf8b9478a97",
    "lastScheduledRunId": null,
    "lastSuccessfullyExecutedCode": "# Loading in required libraries\nimport pandas as pd\nimport seaborn as sns\nimport numpy as np\n\n# Read in the data\nnobel = pd.read_csv(\"data/nobel.csv\")\n\n# Preview the data\nnobel.head()",
    "outputsMetadata": {
     "0": {
      "height": 264,
      "tableState": {},
      "type": "dataFrame"
     }
    }
   },
   "outputs": [
    {
     "data": {
      "text/html": [
       "<div>\n",
       "<style scoped>\n",
       "    .dataframe tbody tr th:only-of-type {\n",
       "        vertical-align: middle;\n",
       "    }\n",
       "\n",
       "    .dataframe tbody tr th {\n",
       "        vertical-align: top;\n",
       "    }\n",
       "\n",
       "    .dataframe thead th {\n",
       "        text-align: right;\n",
       "    }\n",
       "</style>\n",
       "<table border=\"1\" class=\"dataframe\">\n",
       "  <thead>\n",
       "    <tr style=\"text-align: right;\">\n",
       "      <th></th>\n",
       "      <th>year</th>\n",
       "      <th>category</th>\n",
       "      <th>prize</th>\n",
       "      <th>motivation</th>\n",
       "      <th>prize_share</th>\n",
       "      <th>laureate_id</th>\n",
       "      <th>laureate_type</th>\n",
       "      <th>full_name</th>\n",
       "      <th>birth_date</th>\n",
       "      <th>birth_city</th>\n",
       "      <th>birth_country</th>\n",
       "      <th>sex</th>\n",
       "      <th>organization_name</th>\n",
       "      <th>organization_city</th>\n",
       "      <th>organization_country</th>\n",
       "      <th>death_date</th>\n",
       "      <th>death_city</th>\n",
       "      <th>death_country</th>\n",
       "    </tr>\n",
       "  </thead>\n",
       "  <tbody>\n",
       "    <tr>\n",
       "      <th>0</th>\n",
       "      <td>1901</td>\n",
       "      <td>Chemistry</td>\n",
       "      <td>The Nobel Prize in Chemistry 1901</td>\n",
       "      <td>\"in recognition of the extraordinary services ...</td>\n",
       "      <td>1/1</td>\n",
       "      <td>160</td>\n",
       "      <td>Individual</td>\n",
       "      <td>Jacobus Henricus van 't Hoff</td>\n",
       "      <td>1852-08-30</td>\n",
       "      <td>Rotterdam</td>\n",
       "      <td>Netherlands</td>\n",
       "      <td>Male</td>\n",
       "      <td>Berlin University</td>\n",
       "      <td>Berlin</td>\n",
       "      <td>Germany</td>\n",
       "      <td>1911-03-01</td>\n",
       "      <td>Berlin</td>\n",
       "      <td>Germany</td>\n",
       "    </tr>\n",
       "    <tr>\n",
       "      <th>1</th>\n",
       "      <td>1901</td>\n",
       "      <td>Literature</td>\n",
       "      <td>The Nobel Prize in Literature 1901</td>\n",
       "      <td>\"in special recognition of his poetic composit...</td>\n",
       "      <td>1/1</td>\n",
       "      <td>569</td>\n",
       "      <td>Individual</td>\n",
       "      <td>Sully Prudhomme</td>\n",
       "      <td>1839-03-16</td>\n",
       "      <td>Paris</td>\n",
       "      <td>France</td>\n",
       "      <td>Male</td>\n",
       "      <td>NaN</td>\n",
       "      <td>NaN</td>\n",
       "      <td>NaN</td>\n",
       "      <td>1907-09-07</td>\n",
       "      <td>Châtenay</td>\n",
       "      <td>France</td>\n",
       "    </tr>\n",
       "    <tr>\n",
       "      <th>2</th>\n",
       "      <td>1901</td>\n",
       "      <td>Medicine</td>\n",
       "      <td>The Nobel Prize in Physiology or Medicine 1901</td>\n",
       "      <td>\"for his work on serum therapy, especially its...</td>\n",
       "      <td>1/1</td>\n",
       "      <td>293</td>\n",
       "      <td>Individual</td>\n",
       "      <td>Emil Adolf von Behring</td>\n",
       "      <td>1854-03-15</td>\n",
       "      <td>Hansdorf (Lawice)</td>\n",
       "      <td>Prussia (Poland)</td>\n",
       "      <td>Male</td>\n",
       "      <td>Marburg University</td>\n",
       "      <td>Marburg</td>\n",
       "      <td>Germany</td>\n",
       "      <td>1917-03-31</td>\n",
       "      <td>Marburg</td>\n",
       "      <td>Germany</td>\n",
       "    </tr>\n",
       "    <tr>\n",
       "      <th>3</th>\n",
       "      <td>1901</td>\n",
       "      <td>Peace</td>\n",
       "      <td>The Nobel Peace Prize 1901</td>\n",
       "      <td>NaN</td>\n",
       "      <td>1/2</td>\n",
       "      <td>462</td>\n",
       "      <td>Individual</td>\n",
       "      <td>Jean Henry Dunant</td>\n",
       "      <td>1828-05-08</td>\n",
       "      <td>Geneva</td>\n",
       "      <td>Switzerland</td>\n",
       "      <td>Male</td>\n",
       "      <td>NaN</td>\n",
       "      <td>NaN</td>\n",
       "      <td>NaN</td>\n",
       "      <td>1910-10-30</td>\n",
       "      <td>Heiden</td>\n",
       "      <td>Switzerland</td>\n",
       "    </tr>\n",
       "    <tr>\n",
       "      <th>4</th>\n",
       "      <td>1901</td>\n",
       "      <td>Peace</td>\n",
       "      <td>The Nobel Peace Prize 1901</td>\n",
       "      <td>NaN</td>\n",
       "      <td>1/2</td>\n",
       "      <td>463</td>\n",
       "      <td>Individual</td>\n",
       "      <td>Frédéric Passy</td>\n",
       "      <td>1822-05-20</td>\n",
       "      <td>Paris</td>\n",
       "      <td>France</td>\n",
       "      <td>Male</td>\n",
       "      <td>NaN</td>\n",
       "      <td>NaN</td>\n",
       "      <td>NaN</td>\n",
       "      <td>1912-06-12</td>\n",
       "      <td>Paris</td>\n",
       "      <td>France</td>\n",
       "    </tr>\n",
       "  </tbody>\n",
       "</table>\n",
       "</div>"
      ],
      "text/plain": [
       "   year    category                                           prize  \\\n",
       "0  1901   Chemistry               The Nobel Prize in Chemistry 1901   \n",
       "1  1901  Literature              The Nobel Prize in Literature 1901   \n",
       "2  1901    Medicine  The Nobel Prize in Physiology or Medicine 1901   \n",
       "3  1901       Peace                      The Nobel Peace Prize 1901   \n",
       "4  1901       Peace                      The Nobel Peace Prize 1901   \n",
       "\n",
       "                                          motivation prize_share  laureate_id  \\\n",
       "0  \"in recognition of the extraordinary services ...         1/1          160   \n",
       "1  \"in special recognition of his poetic composit...         1/1          569   \n",
       "2  \"for his work on serum therapy, especially its...         1/1          293   \n",
       "3                                                NaN         1/2          462   \n",
       "4                                                NaN         1/2          463   \n",
       "\n",
       "  laureate_type                     full_name  birth_date         birth_city  \\\n",
       "0    Individual  Jacobus Henricus van 't Hoff  1852-08-30          Rotterdam   \n",
       "1    Individual               Sully Prudhomme  1839-03-16              Paris   \n",
       "2    Individual        Emil Adolf von Behring  1854-03-15  Hansdorf (Lawice)   \n",
       "3    Individual             Jean Henry Dunant  1828-05-08             Geneva   \n",
       "4    Individual                Frédéric Passy  1822-05-20              Paris   \n",
       "\n",
       "      birth_country   sex   organization_name organization_city  \\\n",
       "0       Netherlands  Male   Berlin University            Berlin   \n",
       "1            France  Male                 NaN               NaN   \n",
       "2  Prussia (Poland)  Male  Marburg University           Marburg   \n",
       "3       Switzerland  Male                 NaN               NaN   \n",
       "4            France  Male                 NaN               NaN   \n",
       "\n",
       "  organization_country  death_date death_city death_country  \n",
       "0              Germany  1911-03-01     Berlin       Germany  \n",
       "1                  NaN  1907-09-07   Châtenay        France  \n",
       "2              Germany  1917-03-31    Marburg       Germany  \n",
       "3                  NaN  1910-10-30     Heiden   Switzerland  \n",
       "4                  NaN  1912-06-12      Paris        France  "
      ]
     },
     "execution_count": 4,
     "metadata": {},
     "output_type": "execute_result"
    }
   ],
   "source": [
    "# Loading in required libraries\n",
    "import pandas as pd\n",
    "import seaborn as sns\n",
    "import numpy as np\n",
    "import matplotlib.pyplot as plt\n",
    "\n",
    "# Read in the data\n",
    "nobel = pd.read_csv(\"nobel.csv\")\n",
    "\n",
    "# Preview the data\n",
    "nobel.head()"
   ]
  },
  {
   "cell_type": "code",
   "execution_count": 5,
   "id": "e24f78a1-3a8c-45b0-8c69-bbad1bed877b",
   "metadata": {},
   "outputs": [
    {
     "name": "stdout",
     "output_type": "stream",
     "text": [
      "<class 'pandas.core.frame.DataFrame'>\n",
      "RangeIndex: 1000 entries, 0 to 999\n",
      "Data columns (total 18 columns):\n",
      " #   Column                Non-Null Count  Dtype \n",
      "---  ------                --------------  ----- \n",
      " 0   year                  1000 non-null   int64 \n",
      " 1   category              1000 non-null   object\n",
      " 2   prize                 1000 non-null   object\n",
      " 3   motivation            912 non-null    object\n",
      " 4   prize_share           1000 non-null   object\n",
      " 5   laureate_id           1000 non-null   int64 \n",
      " 6   laureate_type         1000 non-null   object\n",
      " 7   full_name             1000 non-null   object\n",
      " 8   birth_date            968 non-null    object\n",
      " 9   birth_city            964 non-null    object\n",
      " 10  birth_country         969 non-null    object\n",
      " 11  sex                   970 non-null    object\n",
      " 12  organization_name     736 non-null    object\n",
      " 13  organization_city     735 non-null    object\n",
      " 14  organization_country  735 non-null    object\n",
      " 15  death_date            596 non-null    object\n",
      " 16  death_city            579 non-null    object\n",
      " 17  death_country         585 non-null    object\n",
      "dtypes: int64(2), object(16)\n",
      "memory usage: 140.8+ KB\n"
     ]
    }
   ],
   "source": [
    "nobel.info()"
   ]
  },
  {
   "cell_type": "code",
   "execution_count": 6,
   "id": "31370bf2-f879-4c68-bedd-e52e420525eb",
   "metadata": {},
   "outputs": [
    {
     "data": {
      "text/html": [
       "<div>\n",
       "<style scoped>\n",
       "    .dataframe tbody tr th:only-of-type {\n",
       "        vertical-align: middle;\n",
       "    }\n",
       "\n",
       "    .dataframe tbody tr th {\n",
       "        vertical-align: top;\n",
       "    }\n",
       "\n",
       "    .dataframe thead th {\n",
       "        text-align: right;\n",
       "    }\n",
       "</style>\n",
       "<table border=\"1\" class=\"dataframe\">\n",
       "  <thead>\n",
       "    <tr style=\"text-align: right;\">\n",
       "      <th></th>\n",
       "      <th>year</th>\n",
       "      <th>category</th>\n",
       "      <th>prize</th>\n",
       "      <th>motivation</th>\n",
       "      <th>prize_share</th>\n",
       "      <th>laureate_id</th>\n",
       "      <th>laureate_type</th>\n",
       "      <th>full_name</th>\n",
       "      <th>birth_date</th>\n",
       "      <th>birth_city</th>\n",
       "      <th>birth_country</th>\n",
       "      <th>sex</th>\n",
       "      <th>organization_name</th>\n",
       "      <th>organization_city</th>\n",
       "      <th>organization_country</th>\n",
       "      <th>death_date</th>\n",
       "      <th>death_city</th>\n",
       "      <th>death_country</th>\n",
       "    </tr>\n",
       "  </thead>\n",
       "  <tbody>\n",
       "    <tr>\n",
       "      <th>count</th>\n",
       "      <td>1000.000000</td>\n",
       "      <td>1000</td>\n",
       "      <td>1000</td>\n",
       "      <td>912</td>\n",
       "      <td>1000</td>\n",
       "      <td>1000.000000</td>\n",
       "      <td>1000</td>\n",
       "      <td>1000</td>\n",
       "      <td>968</td>\n",
       "      <td>964</td>\n",
       "      <td>969</td>\n",
       "      <td>970</td>\n",
       "      <td>736</td>\n",
       "      <td>735</td>\n",
       "      <td>735</td>\n",
       "      <td>596</td>\n",
       "      <td>579</td>\n",
       "      <td>585</td>\n",
       "    </tr>\n",
       "    <tr>\n",
       "      <th>unique</th>\n",
       "      <td>NaN</td>\n",
       "      <td>6</td>\n",
       "      <td>621</td>\n",
       "      <td>615</td>\n",
       "      <td>4</td>\n",
       "      <td>NaN</td>\n",
       "      <td>2</td>\n",
       "      <td>993</td>\n",
       "      <td>949</td>\n",
       "      <td>649</td>\n",
       "      <td>129</td>\n",
       "      <td>2</td>\n",
       "      <td>325</td>\n",
       "      <td>195</td>\n",
       "      <td>29</td>\n",
       "      <td>585</td>\n",
       "      <td>293</td>\n",
       "      <td>50</td>\n",
       "    </tr>\n",
       "    <tr>\n",
       "      <th>top</th>\n",
       "      <td>NaN</td>\n",
       "      <td>Medicine</td>\n",
       "      <td>The Nobel Prize in Chemistry 1972</td>\n",
       "      <td>\"for their studies of extremely fast chemical ...</td>\n",
       "      <td>1/1</td>\n",
       "      <td>NaN</td>\n",
       "      <td>Individual</td>\n",
       "      <td>Comité international de la Croix Rouge (Intern...</td>\n",
       "      <td>1932-10-24</td>\n",
       "      <td>New York, NY</td>\n",
       "      <td>United States of America</td>\n",
       "      <td>Male</td>\n",
       "      <td>University of California</td>\n",
       "      <td>Cambridge, MA</td>\n",
       "      <td>United States of America</td>\n",
       "      <td>2013-11-19</td>\n",
       "      <td>Paris</td>\n",
       "      <td>United States of America</td>\n",
       "    </tr>\n",
       "    <tr>\n",
       "      <th>freq</th>\n",
       "      <td>NaN</td>\n",
       "      <td>227</td>\n",
       "      <td>3</td>\n",
       "      <td>3</td>\n",
       "      <td>358</td>\n",
       "      <td>NaN</td>\n",
       "      <td>966</td>\n",
       "      <td>3</td>\n",
       "      <td>2</td>\n",
       "      <td>55</td>\n",
       "      <td>291</td>\n",
       "      <td>905</td>\n",
       "      <td>36</td>\n",
       "      <td>53</td>\n",
       "      <td>385</td>\n",
       "      <td>2</td>\n",
       "      <td>27</td>\n",
       "      <td>206</td>\n",
       "    </tr>\n",
       "    <tr>\n",
       "      <th>mean</th>\n",
       "      <td>1973.721000</td>\n",
       "      <td>NaN</td>\n",
       "      <td>NaN</td>\n",
       "      <td>NaN</td>\n",
       "      <td>NaN</td>\n",
       "      <td>509.099000</td>\n",
       "      <td>NaN</td>\n",
       "      <td>NaN</td>\n",
       "      <td>NaN</td>\n",
       "      <td>NaN</td>\n",
       "      <td>NaN</td>\n",
       "      <td>NaN</td>\n",
       "      <td>NaN</td>\n",
       "      <td>NaN</td>\n",
       "      <td>NaN</td>\n",
       "      <td>NaN</td>\n",
       "      <td>NaN</td>\n",
       "      <td>NaN</td>\n",
       "    </tr>\n",
       "    <tr>\n",
       "      <th>std</th>\n",
       "      <td>34.523195</td>\n",
       "      <td>NaN</td>\n",
       "      <td>NaN</td>\n",
       "      <td>NaN</td>\n",
       "      <td>NaN</td>\n",
       "      <td>298.130617</td>\n",
       "      <td>NaN</td>\n",
       "      <td>NaN</td>\n",
       "      <td>NaN</td>\n",
       "      <td>NaN</td>\n",
       "      <td>NaN</td>\n",
       "      <td>NaN</td>\n",
       "      <td>NaN</td>\n",
       "      <td>NaN</td>\n",
       "      <td>NaN</td>\n",
       "      <td>NaN</td>\n",
       "      <td>NaN</td>\n",
       "      <td>NaN</td>\n",
       "    </tr>\n",
       "    <tr>\n",
       "      <th>min</th>\n",
       "      <td>1901.000000</td>\n",
       "      <td>NaN</td>\n",
       "      <td>NaN</td>\n",
       "      <td>NaN</td>\n",
       "      <td>NaN</td>\n",
       "      <td>1.000000</td>\n",
       "      <td>NaN</td>\n",
       "      <td>NaN</td>\n",
       "      <td>NaN</td>\n",
       "      <td>NaN</td>\n",
       "      <td>NaN</td>\n",
       "      <td>NaN</td>\n",
       "      <td>NaN</td>\n",
       "      <td>NaN</td>\n",
       "      <td>NaN</td>\n",
       "      <td>NaN</td>\n",
       "      <td>NaN</td>\n",
       "      <td>NaN</td>\n",
       "    </tr>\n",
       "    <tr>\n",
       "      <th>25%</th>\n",
       "      <td>1949.750000</td>\n",
       "      <td>NaN</td>\n",
       "      <td>NaN</td>\n",
       "      <td>NaN</td>\n",
       "      <td>NaN</td>\n",
       "      <td>250.750000</td>\n",
       "      <td>NaN</td>\n",
       "      <td>NaN</td>\n",
       "      <td>NaN</td>\n",
       "      <td>NaN</td>\n",
       "      <td>NaN</td>\n",
       "      <td>NaN</td>\n",
       "      <td>NaN</td>\n",
       "      <td>NaN</td>\n",
       "      <td>NaN</td>\n",
       "      <td>NaN</td>\n",
       "      <td>NaN</td>\n",
       "      <td>NaN</td>\n",
       "    </tr>\n",
       "    <tr>\n",
       "      <th>50%</th>\n",
       "      <td>1979.000000</td>\n",
       "      <td>NaN</td>\n",
       "      <td>NaN</td>\n",
       "      <td>NaN</td>\n",
       "      <td>NaN</td>\n",
       "      <td>500.500000</td>\n",
       "      <td>NaN</td>\n",
       "      <td>NaN</td>\n",
       "      <td>NaN</td>\n",
       "      <td>NaN</td>\n",
       "      <td>NaN</td>\n",
       "      <td>NaN</td>\n",
       "      <td>NaN</td>\n",
       "      <td>NaN</td>\n",
       "      <td>NaN</td>\n",
       "      <td>NaN</td>\n",
       "      <td>NaN</td>\n",
       "      <td>NaN</td>\n",
       "    </tr>\n",
       "    <tr>\n",
       "      <th>75%</th>\n",
       "      <td>2003.000000</td>\n",
       "      <td>NaN</td>\n",
       "      <td>NaN</td>\n",
       "      <td>NaN</td>\n",
       "      <td>NaN</td>\n",
       "      <td>764.250000</td>\n",
       "      <td>NaN</td>\n",
       "      <td>NaN</td>\n",
       "      <td>NaN</td>\n",
       "      <td>NaN</td>\n",
       "      <td>NaN</td>\n",
       "      <td>NaN</td>\n",
       "      <td>NaN</td>\n",
       "      <td>NaN</td>\n",
       "      <td>NaN</td>\n",
       "      <td>NaN</td>\n",
       "      <td>NaN</td>\n",
       "      <td>NaN</td>\n",
       "    </tr>\n",
       "    <tr>\n",
       "      <th>max</th>\n",
       "      <td>2023.000000</td>\n",
       "      <td>NaN</td>\n",
       "      <td>NaN</td>\n",
       "      <td>NaN</td>\n",
       "      <td>NaN</td>\n",
       "      <td>1034.000000</td>\n",
       "      <td>NaN</td>\n",
       "      <td>NaN</td>\n",
       "      <td>NaN</td>\n",
       "      <td>NaN</td>\n",
       "      <td>NaN</td>\n",
       "      <td>NaN</td>\n",
       "      <td>NaN</td>\n",
       "      <td>NaN</td>\n",
       "      <td>NaN</td>\n",
       "      <td>NaN</td>\n",
       "      <td>NaN</td>\n",
       "      <td>NaN</td>\n",
       "    </tr>\n",
       "  </tbody>\n",
       "</table>\n",
       "</div>"
      ],
      "text/plain": [
       "               year  category                              prize  \\\n",
       "count   1000.000000      1000                               1000   \n",
       "unique          NaN         6                                621   \n",
       "top             NaN  Medicine  The Nobel Prize in Chemistry 1972   \n",
       "freq            NaN       227                                  3   \n",
       "mean    1973.721000       NaN                                NaN   \n",
       "std       34.523195       NaN                                NaN   \n",
       "min     1901.000000       NaN                                NaN   \n",
       "25%     1949.750000       NaN                                NaN   \n",
       "50%     1979.000000       NaN                                NaN   \n",
       "75%     2003.000000       NaN                                NaN   \n",
       "max     2023.000000       NaN                                NaN   \n",
       "\n",
       "                                               motivation prize_share  \\\n",
       "count                                                 912        1000   \n",
       "unique                                                615           4   \n",
       "top     \"for their studies of extremely fast chemical ...         1/1   \n",
       "freq                                                    3         358   \n",
       "mean                                                  NaN         NaN   \n",
       "std                                                   NaN         NaN   \n",
       "min                                                   NaN         NaN   \n",
       "25%                                                   NaN         NaN   \n",
       "50%                                                   NaN         NaN   \n",
       "75%                                                   NaN         NaN   \n",
       "max                                                   NaN         NaN   \n",
       "\n",
       "        laureate_id laureate_type  \\\n",
       "count   1000.000000          1000   \n",
       "unique          NaN             2   \n",
       "top             NaN    Individual   \n",
       "freq            NaN           966   \n",
       "mean     509.099000           NaN   \n",
       "std      298.130617           NaN   \n",
       "min        1.000000           NaN   \n",
       "25%      250.750000           NaN   \n",
       "50%      500.500000           NaN   \n",
       "75%      764.250000           NaN   \n",
       "max     1034.000000           NaN   \n",
       "\n",
       "                                                full_name  birth_date  \\\n",
       "count                                                1000         968   \n",
       "unique                                                993         949   \n",
       "top     Comité international de la Croix Rouge (Intern...  1932-10-24   \n",
       "freq                                                    3           2   \n",
       "mean                                                  NaN         NaN   \n",
       "std                                                   NaN         NaN   \n",
       "min                                                   NaN         NaN   \n",
       "25%                                                   NaN         NaN   \n",
       "50%                                                   NaN         NaN   \n",
       "75%                                                   NaN         NaN   \n",
       "max                                                   NaN         NaN   \n",
       "\n",
       "          birth_city             birth_country   sex  \\\n",
       "count            964                       969   970   \n",
       "unique           649                       129     2   \n",
       "top     New York, NY  United States of America  Male   \n",
       "freq              55                       291   905   \n",
       "mean             NaN                       NaN   NaN   \n",
       "std              NaN                       NaN   NaN   \n",
       "min              NaN                       NaN   NaN   \n",
       "25%              NaN                       NaN   NaN   \n",
       "50%              NaN                       NaN   NaN   \n",
       "75%              NaN                       NaN   NaN   \n",
       "max              NaN                       NaN   NaN   \n",
       "\n",
       "               organization_name organization_city      organization_country  \\\n",
       "count                        736               735                       735   \n",
       "unique                       325               195                        29   \n",
       "top     University of California     Cambridge, MA  United States of America   \n",
       "freq                          36                53                       385   \n",
       "mean                         NaN               NaN                       NaN   \n",
       "std                          NaN               NaN                       NaN   \n",
       "min                          NaN               NaN                       NaN   \n",
       "25%                          NaN               NaN                       NaN   \n",
       "50%                          NaN               NaN                       NaN   \n",
       "75%                          NaN               NaN                       NaN   \n",
       "max                          NaN               NaN                       NaN   \n",
       "\n",
       "        death_date death_city             death_country  \n",
       "count          596        579                       585  \n",
       "unique         585        293                        50  \n",
       "top     2013-11-19      Paris  United States of America  \n",
       "freq             2         27                       206  \n",
       "mean           NaN        NaN                       NaN  \n",
       "std            NaN        NaN                       NaN  \n",
       "min            NaN        NaN                       NaN  \n",
       "25%            NaN        NaN                       NaN  \n",
       "50%            NaN        NaN                       NaN  \n",
       "75%            NaN        NaN                       NaN  \n",
       "max            NaN        NaN                       NaN  "
      ]
     },
     "execution_count": 6,
     "metadata": {},
     "output_type": "execute_result"
    }
   ],
   "source": [
    "nobel.describe(include='all')"
   ]
  },
  {
   "cell_type": "markdown",
   "id": "60ca300e-ae3a-4498-a8c2-0d498077edd4",
   "metadata": {},
   "source": [
    "The Nobel Prize dataset contains 1,000 entries spanning from 1901 to 2023, covering six main categories: Chemistry, Literature, Medicine, Peace, Physics, and Economics. The most frequently awarded category is Medicine, with 227 prizes. The dataset also includes detailed biographical and institutional information, allowing for rich analysis of geographic, institutional, and demographic trends over time.\n"
   ]
  },
  {
   "cell_type": "markdown",
   "id": "2faaed38-d690-470a-bf98-31f0661b6170",
   "metadata": {},
   "source": [
    "## What is the top gender awarded?"
   ]
  },
  {
   "cell_type": "code",
   "execution_count": 9,
   "id": "578c223f-eb22-456f-a281-9c48d67b1c15",
   "metadata": {
    "executionCancelledAt": null,
    "executionTime": 52,
    "lastExecutedAt": 1749442707760,
    "lastExecutedByKernel": "77f8fedb-4e0d-466a-ac63-dcf8b9478a97",
    "lastScheduledRunId": null,
    "lastSuccessfullyExecutedCode": "# what is the top gender awarded?\ntop_gender = nobel[\"sex\"].value_counts().idxmax()\nprint(f\"The most commonly awarded gender is: {top_gender}.\")",
    "outputsMetadata": {
     "0": {
      "height": 38,
      "type": "stream"
     }
    }
   },
   "outputs": [
    {
     "name": "stdout",
     "output_type": "stream",
     "text": [
      "The most commonly awarded gender is: Male.\n"
     ]
    }
   ],
   "source": [
    "top_gender = nobel[\"sex\"].value_counts().idxmax()\n",
    "print(f\"The most commonly awarded gender is: {top_gender}.\")"
   ]
  },
  {
   "cell_type": "markdown",
   "id": "122335af-0bf3-43de-abd9-386bf9ba094c",
   "metadata": {},
   "source": [
    "## What is the top country awarded?"
   ]
  },
  {
   "cell_type": "code",
   "execution_count": 11,
   "id": "1b052cae-ef11-4555-9315-fa3335af0082",
   "metadata": {
    "executionCancelledAt": null,
    "executionTime": 53,
    "lastExecutedAt": 1749442707813,
    "lastExecutedByKernel": "77f8fedb-4e0d-466a-ac63-dcf8b9478a97",
    "lastScheduledRunId": null,
    "lastSuccessfullyExecutedCode": "# what is the top country awarded?\ntop_country = nobel[\"birth_country\"].value_counts().idxmax()\nprint(f\"The most common country of birth among Nobel Prize winners is: {top_country}.\")",
    "outputsMetadata": {
     "0": {
      "height": 38,
      "type": "stream"
     }
    }
   },
   "outputs": [
    {
     "name": "stdout",
     "output_type": "stream",
     "text": [
      "The most common country of birth among Nobel Prize winners is: United States of America.\n"
     ]
    }
   ],
   "source": [
    "top_country = nobel[\"birth_country\"].value_counts().idxmax()\n",
    "print(f\"The most common country of birth among Nobel Prize winners is: {top_country}.\")"
   ]
  },
  {
   "cell_type": "markdown",
   "id": "dd5f93b7-4653-4236-b9a7-1ef0d4f6ccdd",
   "metadata": {},
   "source": [
    "Based on the analysis, the most commonly awarded gender among Nobel Prize winners is Male, which reflects historical gender disparities in recognition across scientific and humanitarian fields. Additionally, the United States of America is the top country of birth among laureates, highlighting its longstanding global influence in research and peace initiatives. These results are perhaps unsurprising. "
   ]
  },
  {
   "cell_type": "markdown",
   "id": "901c8c06-24c0-4576-bd87-93ff016b3425",
   "metadata": {},
   "source": [
    "## Which decade had the highest proportion of US-born winners to total winners in all categories?"
   ]
  },
  {
   "cell_type": "code",
   "execution_count": 14,
   "id": "abad0106-becc-40ec-86ca-14b76c78b555",
   "metadata": {
    "executionCancelledAt": null,
    "executionTime": 51,
    "lastExecutedAt": 1749442707864,
    "lastExecutedByKernel": "77f8fedb-4e0d-466a-ac63-dcf8b9478a97",
    "lastScheduledRunId": null,
    "lastSuccessfullyExecutedCode": "# which decade had the highest proportion of US-born winners to total winners in all categories?\n\n# Extract the decade from the year\nnobel[\"decade\"] = (nobel[\"year\"] // 10) * 10\n\n# Filter for U.S. winners\nnobel[\"is_usa\"] = (nobel[\"birth_country\"] == \"United States of America\")\n\n# Calculate proportion by decade\nus_ratio_by_decade = nobel.groupby(\"decade\")[\"is_usa\"].mean()\n\n# Find the decade with max proportion of U.S. winners and print\nmax_decade_usa = us_ratio_by_decade.idxmax()\nprint(f\"The decade with the highest proportion of US-born Nobel Prize winners is: The {max_decade_usa}s.\")",
    "outputsMetadata": {
     "0": {
      "height": 38,
      "type": "stream"
     }
    }
   },
   "outputs": [
    {
     "name": "stdout",
     "output_type": "stream",
     "text": [
      "The decade with the highest proportion of US-born Nobel Prize winners is: The 2000s.\n"
     ]
    }
   ],
   "source": [
    "# Extract the decade from the year\n",
    "nobel[\"decade\"] = (nobel[\"year\"] // 10) * 10\n",
    "\n",
    "# Filter for U.S. winners\n",
    "nobel[\"is_usa\"] = (nobel[\"birth_country\"] == \"United States of America\")\n",
    "\n",
    "# Calculate proportion by decade\n",
    "us_ratio_by_decade = nobel.groupby(\"decade\")[\"is_usa\"].mean()\n",
    "\n",
    "# Find the decade with max proportion of U.S. winners and print\n",
    "max_decade_usa = us_ratio_by_decade.idxmax()\n",
    "print(f\"The decade with the highest proportion of US-born Nobel Prize winners is: The {max_decade_usa}s.\")"
   ]
  },
  {
   "cell_type": "markdown",
   "id": "f4ee6f2c-912d-4bbb-ac34-f2aa030b54c6",
   "metadata": {},
   "source": [
    "The results show that the 2000s had the highest proportion of Nobel Prize winners born in the United States compared to other decades. How has the proportion of US-born winners to total winners changed over time?"
   ]
  },
  {
   "cell_type": "code",
   "execution_count": 16,
   "id": "8917119b-a350-418d-bf3c-3125d2ae139a",
   "metadata": {},
   "outputs": [
    {
     "data": {
      "image/png": "[encoded data removed]",
      "text/plain": [
       "<Figure size 1000x600 with 1 Axes>"
      ]
     },
     "metadata": {},
     "output_type": "display_data"
    }
   ],
   "source": [
    "# Plot proportion of US-born winners by decade\n",
    "plt.figure(figsize=(10, 6))\n",
    "plt.plot(us_ratio_by_decade.index, us_ratio_by_decade.values, marker=\"o\")\n",
    "plt.title(\"Proportion of U.S.-Born Nobel Laureates by Decade\")\n",
    "plt.xlabel(\"Decade\")\n",
    "plt.ylabel(\"Proportion of U.S.-Born Winners\")\n",
    "plt.grid(True)\n",
    "plt.tight_layout()\n",
    "plt.show()"
   ]
  },
  {
   "cell_type": "markdown",
   "id": "9dcb0970-67c8-4f49-a117-aa3320ab457a",
   "metadata": {},
   "source": [
    "The plot shows a steady increase in the proportion of U.S.-born Nobel laureates throughout the 20th century, peaking in the 2000s. This trend reflects the growing global influence of the United States in science, literature, and peace efforts during the post-World War II era, with a slight decline in the 2010s followed by a rebound in the 2020s."
   ]
  },
  {
   "cell_type": "markdown",
   "id": "ac37c444-531d-431b-a3ee-b99ce42653b3",
   "metadata": {},
   "source": [
    "## Which decade and Nobel Prize category combination had the highest proportion of female laureates?"
   ]
  },
  {
   "cell_type": "code",
   "execution_count": 19,
   "id": "6436ae2d-5f8d-4b66-927d-6bd2ecb77491",
   "metadata": {
    "executionCancelledAt": null,
    "executionTime": 661,
    "lastExecutedAt": 1749442708525,
    "lastExecutedByKernel": "77f8fedb-4e0d-466a-ac63-dcf8b9478a97",
    "lastScheduledRunId": null,
    "lastSuccessfullyExecutedCode": "# Which decade and Nobel Prize category combination had the highest proportion of female laureates?\n\n# Calculating the proportion of female laureates per decade\nnobel['female_winner'] = nobel['sex'] == 'Female'\nprop_female_winners = nobel.groupby(['decade', 'category'], as_index=False)['female_winner'].mean()\n\n# Find the decade and category with the highest proportion of female laureates\nmax_female_decade_category = prop_female_winners[prop_female_winners['female_winner'] == prop_female_winners['female_winner'].max()][['decade', 'category']]\n\n# Create a dictionary with the decade and category pair\nmax_female_dict = {max_female_decade_category['decade'].values[0]: max_female_decade_category['category'].values[0]}\n\n# Optional: Plotting female winners with % winners on the y-axis\nax2 = sns.relplot(x='decade', y='female_winner', hue='category', data=prop_female_winners, kind=\"line\")\n",
    "outputsMetadata": {
     "0": {
      "height": 80,
      "type": "stream"
     }
    }
   },
   "outputs": [
    {
     "name": "stdout",
     "output_type": "stream",
     "text": [
      "In the 2020s, the 'Literature' category had the highest proportion of female Nobel laureates.\n"
     ]
    }
   ],
   "source": [
    "# Calculate the proportion of female laureates per decade\n",
    "nobel[\"female_winner\"] = nobel[\"sex\"] == \"Female\"\n",
    "prop_female_winners = nobel.groupby([\"decade\", \"category\"], as_index=False)[\"female_winner\"].mean()\n",
    "\n",
    "# Find the decade and category with the highest proportion of female winners\n",
    "max_female_decade_category = prop_female_winners[prop_female_winners[\"female_winner\"] == prop_female_winners[\"female_winner\"].max()][[\"decade\", \"category\"]]\n",
    "\n",
    "# Save decade and category with the highest proportion of female winners and print\n",
    "decade = max_female_decade_category[\"decade\"].values[0]\n",
    "category = max_female_decade_category[\"category\"].values[0]\n",
    "print(f\"In the {decade}s, the '{category}' category had the highest proportion of female Nobel laureates.\")"
   ]
  },
  {
   "cell_type": "markdown",
   "id": "92eacd27-db05-4a8a-86e1-c02c1d577ce5",
   "metadata": {},
   "source": [
    "This result highlights a notable rise in gender representation within the Literature category during the 2020s. To better understand this trend over time, the following graph visualizes the proportion of female laureates across all Nobel categories by decade."
   ]
  },
  {
   "cell_type": "code",
   "execution_count": 21,
   "id": "bcdeea9e-0322-4489-9c2d-fbe82209a614",
   "metadata": {},
   "outputs": [
    {
     "data": {
      "image/png": "[encoded data removed]",
      "text/plain": [
       "<Figure size 624.25x500 with 1 Axes>"
      ]
     },
     "metadata": {},
     "output_type": "display_data"
    }
   ],
   "source": [
    "# Plotting female winners with % winners on the y-axis\n",
    "ax2 = sns.relplot(x=\"decade\", y=\"female_winner\", hue=\"category\", data=prop_female_winners, kind=\"line\")"
   ]
  },
  {
   "cell_type": "markdown",
   "id": "f93b5e21-ca6d-4cf1-8d58-e0ace2a7a7bd",
   "metadata": {},
   "source": [
    "The graph shows that the proportion of female Nobel laureates has generally increased over time, with noticeable growth starting around the 1980s. The Literature and Peace categories display the most consistent and significant rises, peaking in the 2020s. In contrast, fields like Physics and Economics still show relatively low female representation, indicating ongoing gender disparities in certain disciplines."
   ]
  },
  {
   "cell_type": "markdown",
   "id": "a9cdba75-22ca-4329-b931-82de39d559ad",
   "metadata": {},
   "source": [
    "## Who was the first woman to receive a Nobel Prize, and in what category?"
   ]
  },
  {
   "cell_type": "code",
   "execution_count": 24,
   "id": "1cef7ca1-c490-4735-97e6-ac458e3cd364",
   "metadata": {
    "executionCancelledAt": null,
    "executionTime": 57,
    "lastExecutedAt": 1749442708582,
    "lastExecutedByKernel": "77f8fedb-4e0d-466a-ac63-dcf8b9478a97",
    "lastScheduledRunId": null,
    "lastSuccessfullyExecutedCode": "# Who was the first woman to receive a Nobel Prize, and in what category?\n\n# Filter for female laureates and sort by year\nfirst_woman = nobel[nobel['sex'] == 'Female'].sort_values('year').iloc[0]\n\n# Save the name and category as strings\nfirst_woman_name = first_woman['full_name']\nfirst_woman_category = first_woman['category']\n\n# Print the results\nprint(f\"The first woman to receive a Nobel Prize was {first_woman_name} in the category of {first_woman_category}.\")",
    "outputsMetadata": {
     "0": {
      "height": 38,
      "type": "stream"
     }
    }
   },
   "outputs": [
    {
     "name": "stdout",
     "output_type": "stream",
     "text": [
      "The first woman to receive a Nobel Prize was Marie Curie, née Sklodowska in the category of Physics.\n"
     ]
    }
   ],
   "source": [
    "# Filter for female laureates and sort by year\n",
    "first_woman = nobel[nobel[\"sex\"] == \"Female\"].sort_values(\"year\").iloc[0]\n",
    "\n",
    "# Save the name and category as strings\n",
    "first_woman_name = first_woman[\"full_name\"]\n",
    "first_woman_category = first_woman[\"category\"]\n",
    "\n",
    "# Print the results\n",
    "print(f\"The first woman to receive a Nobel Prize was {first_woman_name} in the category of {first_woman_category}.\")"
   ]
  },
  {
   "cell_type": "markdown",
   "id": "5963f0e8-d747-404a-ae52-bfcc191df84f",
   "metadata": {},
   "source": [
    "Marie Curie was indeed the first woman to receive a Nobel Prize, awarded in Physics in 1903 for her research on radioactivity."
   ]
  },
  {
   "cell_type": "markdown",
   "id": "059a1f49-71a2-4a1a-807f-a4ee36e80bb9",
   "metadata": {},
   "source": [
    "## Which individuals or organizations have won more than one Nobel Prize throughout the years?"
   ]
  },
  {
   "cell_type": "code",
   "execution_count": 27,
   "id": "76fd7cde-8da7-42eb-8b4b-52ace3e949a5",
   "metadata": {
    "executionCancelledAt": null,
    "executionTime": 50,
    "lastExecutedAt": 1749442708632,
    "lastExecutedByKernel": "77f8fedb-4e0d-466a-ac63-dcf8b9478a97",
    "lastScheduledRunId": null,
    "lastSuccessfullyExecutedCode": "# Which individuals or organizations have won more than one Nobel Prize throughout the years?\n\n# Count how many times each name appears\ncounts = nobel['full_name'].value_counts()\n\n# Filter names that appear two or more times and convert to a list\nrepeat_list = list(counts[counts >= 2].index)\n\n# Print the list\nprint(repeat_list)",
    "outputsMetadata": {
     "0": {
      "height": 80,
      "type": "stream"
     }
    }
   },
   "outputs": [
    {
     "name": "stdout",
     "output_type": "stream",
     "text": [
      "The following individuals or organizations have won more than one Nobel Prize:\n",
      "\n",
      "1. Comité international de la Croix Rouge (International Committee of the Red Cross) — 3 prizes\n",
      "2. Linus Carl Pauling — 2 prizes\n",
      "3. John Bardeen — 2 prizes\n",
      "4. Frederick Sanger — 2 prizes\n",
      "5. Marie Curie, née Sklodowska — 2 prizes\n",
      "6. Office of the United Nations High Commissioner for Refugees (UNHCR) — 2 prizes\n"
     ]
    }
   ],
   "source": [
    "# Count how many times each name appears\n",
    "counts = nobel[\"full_name\"].value_counts()\n",
    "\n",
    "# Filter names that appear two or more times\n",
    "repeat_counts = counts[counts >= 2].sort_values(ascending=False)\n",
    "\n",
    "# Print formatted results\n",
    "print(\"The following individuals or organizations have won more than one Nobel Prize:\\n\")\n",
    "for i, (name, count) in enumerate(repeat_counts.items(), start=1):\n",
    "    print(f\"{i}. {name} — {count} prizes\")"
   ]
  },
  {
   "cell_type": "markdown",
   "id": "cc9a712e-2689-4eeb-96f6-935dce327482",
   "metadata": {},
   "source": [
    "A small group of individuals and organizations have received more than one Nobel Prize, with notable examples including Marie Curie, who later won a second Nobel in Chemistry."
   ]
  },
  {
   "cell_type": "markdown",
   "id": "5d4b42a1-10b7-473e-8a27-97d992c2fbe8",
   "metadata": {},
   "source": [
    "## Conclusion"
   ]
  },
  {
   "cell_type": "markdown",
   "id": "6e6d3772-6b1e-4f90-8165-0c2a323d60cd",
   "metadata": {},
   "source": [
    "The Nobel Prize dataset reveals important historical and social trends in global achievement. While male laureates and U.S.-born winners have dominated much of the 20th and early 21st centuries, recent decades show increasing recognition of female contributors, especially in categories like Literature and Peace. Repeat winners such as Marie Curie highlight exceptional impact across fields. Overall, the data illustrates both progress and persistent disparities in how global excellence is acknowledged."
   ]
  }
 ],
 "metadata": {
  "editor": "DataCamp Workspace",
  "kernelspec": {
   "display_name": "Python 3 (ipykernel)",
   "language": "python",
   "name": "python3"
  },
  "language_info": {
   "codemirror_mode": {
    "name": "ipython",
    "version": 3
   },
   "file_extension": ".py",
   "mimetype": "text/x-python",
   "name": "python",
   "nbconvert_exporter": "python",
   "pygments_lexer": "ipython3",
   "version": "3.12.4"
  }
 },
 "nbformat": 4,
 "nbformat_minor": 5
}
